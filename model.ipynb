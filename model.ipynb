{
 "cells": [
  {
   "cell_type": "code",
   "execution_count": 1,
   "metadata": {},
   "outputs": [
    {
     "name": "stderr",
     "output_type": "stream",
     "text": [
      "2023-08-15 21:45:32.157214: I tensorflow/core/platform/cpu_feature_guard.cc:182] This TensorFlow binary is optimized to use available CPU instructions in performance-critical operations.\n",
      "To enable the following instructions: AVX2 FMA, in other operations, rebuild TensorFlow with the appropriate compiler flags.\n",
      "2023-08-15 21:45:33.029352: W tensorflow/compiler/tf2tensorrt/utils/py_utils.cc:38] TF-TRT Warning: Could not find TensorRT\n"
     ]
    },
    {
     "name": "stdout",
     "output_type": "stream",
     "text": [
      "Num GPUs Available:  1\n"
     ]
    },
    {
     "name": "stderr",
     "output_type": "stream",
     "text": [
      "2023-08-15 21:45:34.094921: I tensorflow/compiler/xla/stream_executor/cuda/cuda_gpu_executor.cc:981] could not open file to read NUMA node: /sys/bus/pci/devices/0000:01:00.0/numa_node\n",
      "Your kernel may have been built without NUMA support.\n",
      "2023-08-15 21:45:34.230293: I tensorflow/compiler/xla/stream_executor/cuda/cuda_gpu_executor.cc:981] could not open file to read NUMA node: /sys/bus/pci/devices/0000:01:00.0/numa_node\n",
      "Your kernel may have been built without NUMA support.\n",
      "2023-08-15 21:45:34.230344: I tensorflow/compiler/xla/stream_executor/cuda/cuda_gpu_executor.cc:981] could not open file to read NUMA node: /sys/bus/pci/devices/0000:01:00.0/numa_node\n",
      "Your kernel may have been built without NUMA support.\n"
     ]
    }
   ],
   "source": [
    "import tensorflow as tf\n",
    "print(\"Num GPUs Available: \", len(tf.config.list_physical_devices('GPU')))"
   ]
  },
  {
   "cell_type": "code",
   "execution_count": null,
   "metadata": {},
   "outputs": [],
   "source": [
    "import numpy as np\n",
    "import pandas as pd\n",
    "import gymnasium as gym\n",
    "from gymnasium import spaces\n",
    "\n",
    "class StockTradingEnvironment(gym.Env):\n",
    "    def __init__(self, df):\n",
    "        super(StockTradingEnvironment, self).__init__()\n",
    "\n",
    "        self.df = df\n",
    "        self.current_step = 0\n",
    "        self.current_capital = 10000\n",
    "        self.stock_owned = 0\n",
    "\n",
    "        self.action_space = spaces.Discrete(3)  # BUY, SELL, NO ACTION\n",
    "        self.observation_space = spaces.Box(low=0, high=1, shape=(len(self.df.columns),), dtype=np.float32)\n",
    "\n",
    "    def reset(self):\n",
    "        self.current_step = 0\n",
    "        self.current_capital = 10000\n",
    "        self.stock_owned = 0\n",
    "        return self._next_observation()\n",
    "\n",
    "    def _next_observation(self):\n",
    "        return self.df.iloc[self.current_step].values\n",
    "\n",
    "    def step(self, action):\n",
    "        prev_capital = self.current_capital\n",
    "\n",
    "        if action == 0:  # BUY\n",
    "            self.stock_owned += 1\n",
    "            self.current_capital -= self.df.iloc[self.current_step][\"Close\"]\n",
    "        elif action == 1:  # SELL\n",
    "            self.stock_owned -= 1\n",
    "            self.current_capital += self.df.iloc[self.current_step][\"Close\"]\n",
    "\n",
    "        self.current_step += 1\n",
    "\n",
    "        done = self.current_step == len(self.df) - 1\n",
    "        reward = self.current_capital - prev_capital - (0.001 * abs(action-1))  # discourage frequent trading by a small penalty\n",
    "\n",
    "        return self._next_observation(), reward, done, {}\n",
    "\n",
    "    def render(self, mode='human', close=False):\n",
    "        pass\n"
   ]
  }
 ],
 "metadata": {
  "kernelspec": {
   "display_name": ".venv",
   "language": "python",
   "name": "python3"
  },
  "language_info": {
   "codemirror_mode": {
    "name": "ipython",
    "version": 3
   },
   "file_extension": ".py",
   "mimetype": "text/x-python",
   "name": "python",
   "nbconvert_exporter": "python",
   "pygments_lexer": "ipython3",
   "version": "3.10.12"
  },
  "orig_nbformat": 4
 },
 "nbformat": 4,
 "nbformat_minor": 2
}
